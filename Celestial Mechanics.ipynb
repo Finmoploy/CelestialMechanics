{
 "cells": [
  {
   "cell_type": "code",
   "execution_count": 2,
   "metadata": {
    "scrolled": true
   },
   "outputs": [
    {
     "data": {
      "image/png": "[encoded data removed]",
      "text/plain": [
       "<Figure size 432x288 with 1 Axes>"
      ]
     },
     "metadata": {
      "needs_background": "light"
     },
     "output_type": "display_data"
    }
   ],
   "source": [
    "#Imports\n",
    "import numpy as np\n",
    "import matplotlib.pyplot as plt\n",
    "\n",
    "#Constants\n",
    "#Mass of Sun in kg, G Constant in m^3/(kg(s^2)), Orbit Length in seconds, 1AU in m\n",
    "Sun_Mass = 1.989E+30\n",
    "Earth_Mass = 5.972E+24\n",
    "Moon_Mass = 7.348E+22\n",
    "G_Constant = 6.67408E-11\n",
    "delta_t = 1\n",
    "AU = 1.496E+11\n",
    "MDist = 3.844E+8\n",
    "\n",
    "#Inital Conditions\n",
    "Earthx = AU\n",
    "Earthy = 0\n",
    "Moonx = AU+MDist\n",
    "Moony = 0\n",
    "Earthradius = (Earthx**2+Earthy**2)**(1/2)\n",
    "MoonEradius = ((Moonx-Earthx)**2+(Moony-Earthy)**2)**(1/2)\n",
    "MoonSradius = (Moonx**2+Moony**2)**(1/2)\n",
    "Earthxvelocity = 0\n",
    "Earthyvelocity = -29780\n",
    "Moonxvelocity = -0\n",
    "Moonyvelocity = -30800\n",
    "Earthx_array = np.zeros(4000000)\n",
    "Earthy_array = np.zeros(4000000)\n",
    "Earthradius_array = np.zeros(4000000)\n",
    "Moonx_array = np.zeros(4000000)\n",
    "Moony_array = np.zeros(4000000)\n",
    "MoonEradius_array = np.zeros(4000000)\n",
    "MoonSradius_array = np.zeros(4000000)\n",
    "time = 0\n",
    "t_end = 4000000\n",
    "i = 0\n",
    "#Earthaphelion = Earthradius\n",
    "#Earthperihelion = Earthradius\n",
    "#Moonaphelion = Moonradius\n",
    "#Moonperihelion = Moonradius\n",
    "\n",
    "while time<t_end:\n",
    "    while i<time:\n",
    "        Earthx = Earthx + Earthxvelocity*delta_t\n",
    "        Earthy = Earthy + Earthyvelocity*delta_t\n",
    "        Moonx = Moonx + Moonxvelocity*delta_t\n",
    "        Moony = Moony + Moonyvelocity*delta_t\n",
    "        Earthradius = (Earthx**2+Earthy**2)**(1/2)\n",
    "        MoonEradius = ((Moonx-Earthx)**2+(Moony-Earthy)**2)**(1/2)\n",
    "        MoonSradius = (Moonx**2+Moony**2)**(1/2)\n",
    "        Earthxacceleration = (-(Sun_Mass*G_Constant*(Earthx))/(Earthradius**3) + (Moon_Mass*G_Constant*(Moonx-Earthx)/(MoonEradius**3)))\n",
    "        Earthxvelocity = Earthxvelocity + Earthxacceleration*delta_t\n",
    "        Earthyacceleration = (-(Sun_Mass*G_Constant*(Earthy))/(Earthradius**3) + (Moon_Mass*G_Constant*(Moony-Earthy)/(MoonEradius**3)))\n",
    "        Earthyvelocity = Earthyvelocity + Earthyacceleration*delta_t\n",
    "        Moonxacceleration = (-(Sun_Mass*G_Constant*(Moonx))/(MoonSradius**3) + (Earth_Mass*G_Constant*(Earthx-Moonx)/(MoonEradius**3)))\n",
    "        Moonxvelocity = Moonxvelocity + Moonxacceleration*delta_t\n",
    "        Moonyacceleration = (-(Sun_Mass*G_Constant*(Moony))/(MoonSradius**3) + (Earth_Mass*G_Constant*(Earthy-Moony)/(MoonEradius**3)))\n",
    "        Moonyvelocity = Moonyvelocity + Moonyacceleration*delta_t\n",
    "        i=i+delta_t\n",
    "    Earthx_array[i] = Earthx\n",
    "    Earthy_array[i] = Earthy\n",
    "    Earthradius_array[i] = Earthradius\n",
    "    Moonx_array[i] = Moonx\n",
    "    Moony_array[i] = Moony\n",
    "    MoonEradius_array[i] = MoonEradius\n",
    "    MoonSradius_array[i] = MoonSradius\n",
    "    time = time+delta_t\n",
    "\n",
    "plt.plot(Earthx_array, Earthy_array)\n",
    "plt.plot(Moonx_array, Moony_array)\n",
    "plt.title('Earth and Moon orbit Sun')\n",
    "plt.show()\n",
    "\n",
    "#plt.plot(MoonEradius)\n",
    "#plt.title('Moon orbit earth radius')\n",
    "#plt.show()"
   ]
  },
  {
   "cell_type": "code",
   "execution_count": null,
   "metadata": {
    "collapsed": true
   },
   "outputs": [],
   "source": []
  }
 ],
 "metadata": {
  "anaconda-cloud": {},
  "kernelspec": {
   "display_name": "Python 3",
   "language": "python",
   "name": "python3"
  },
  "language_info": {
   "codemirror_mode": {
    "name": "ipython",
    "version": 3
   },
   "file_extension": ".py",
   "mimetype": "text/x-python",
   "name": "python",
   "nbconvert_exporter": "python",
   "pygments_lexer": "ipython3",
   "version": "3.6.9"
  }
 },
 "nbformat": 4,
 "nbformat_minor": 1
}
